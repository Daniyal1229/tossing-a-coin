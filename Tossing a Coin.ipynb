{
 "cells": [
  {
   "cell_type": "code",
   "execution_count": 7,
   "id": "235fb767",
   "metadata": {},
   "outputs": [
    {
     "name": "stdout",
     "output_type": "stream",
     "text": [
      "Enter Your Choice [head/tail]head\n",
      "player chose head computer chose tail and outcome is:tail\n",
      "computer won the toss!\n",
      "\n",
      "Do you want to continue? [y/n]:y\n",
      "Enter Your Choice [head/tail]tail\n",
      "player chose tail computer chose head and outcome is:head\n",
      "computer won the toss!\n",
      "\n",
      "Do you want to continue? [y/n]:y\n",
      "Enter Your Choice [head/tail]head\n",
      "player chose head computer chose head and outcome is:tail\n",
      "its a tie\n",
      "\n",
      "Do you want to continue? [y/n]:y\n",
      "Enter Your Choice [head/tail]head\n",
      "player chose head computer chose tail and outcome is:head\n",
      "player won the toss!\n",
      "\n",
      "Do you want to continue? [y/n]:n\n",
      "Thank you for trying my game\n"
     ]
    }
   ],
   "source": [
    "import random\n",
    "options = [\"head\",\"tail\"]\n",
    "i = \"y\"\n",
    "while i ==\"y\":\n",
    "    def get_choice():\n",
    "        player_chose = input(\"Enter Your Choice [head/tail]\")\n",
    "        computer_chose = random.choice(options)\n",
    "        choice = {\"player\":player_chose,\"computer\":computer_chose}\n",
    "        return choice\n",
    "\n",
    "    def checkforwin(player,computer):\n",
    "        outcome = random.choice(options)\n",
    "        print(f'player chose {player} computer chose {computer} and outcome is:{outcome}')\n",
    "        if player == computer:\n",
    "            return \"its a tie\"\n",
    "        elif player == \"head\":\n",
    "            if outcome ==\"head\":\n",
    "                return \"player won the toss!\"\n",
    "            else:\n",
    "                return \"computer won the toss!\"\n",
    "        elif player == \"tail\":\n",
    "            if outcome == \"tail\":\n",
    "                return \"player won the toss!\"\n",
    "            else:\n",
    "                return \"computer won the toss!\"\n",
    "\n",
    "\n",
    "    choices = get_choice()\n",
    "    result = checkforwin(choices[\"player\"],choices[\"computer\"])\n",
    "    print(result)\n",
    "    i = input(\"\\nDo you want to continue? [y/n]:\")\n",
    "else:\n",
    "     print(\"Thank you for trying my game\")\n",
    "\n",
    "\n"
   ]
  },
  {
   "cell_type": "code",
   "execution_count": null,
   "id": "5bf4849e",
   "metadata": {},
   "outputs": [],
   "source": []
  },
  {
   "cell_type": "code",
   "execution_count": null,
   "id": "3c7b9842",
   "metadata": {},
   "outputs": [],
   "source": []
  }
 ],
 "metadata": {
  "kernelspec": {
   "display_name": "Python 3 (ipykernel)",
   "language": "python",
   "name": "python3"
  },
  "language_info": {
   "codemirror_mode": {
    "name": "ipython",
    "version": 3
   },
   "file_extension": ".py",
   "mimetype": "text/x-python",
   "name": "python",
   "nbconvert_exporter": "python",
   "pygments_lexer": "ipython3",
   "version": "3.9.13"
  }
 },
 "nbformat": 4,
 "nbformat_minor": 5
}
